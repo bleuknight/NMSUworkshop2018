{
 "cells": [
  {
   "cell_type": "markdown",
   "metadata": {
    "_cell_guid": "ed441827-912f-4d26-bb30-962e494e4902",
    "_uuid": "13862e491295654979f1c1a68d5b51050078c9a8"
   },
   "source": [
    "# Introduction\n",
    "\n",
    "This is the python notebook corresponding to the NMSU Pandas Workshop. For the online reference [**click here**](https://github.com/bleuknight/NMSUworkshop2018/blob/master/learnPandasReference.ipynb).\n",
    "\n",
    "Selecting specific values of a `pandas` `DataFrame` or `Series` to work on is an implicit step in almost any data operation you'll run, so one of the first things you need to learn in working with data in Python is how to go about selecting the data points relevant to you quickly and effectively.\n",
    "\n",
    "I have remixed an excellent kaggle tutorial that can be found [here](https://www.kaggle.com/residentmario/indexing-selecting-assigning)\n",
    "\n",
    "In this set of exercises we will work on exploring the [pollutants dataset](https://www.kaggle.com/sohier/mussel-watch/data). \n",
    "\n",
    "# Relevant Resources\n",
    "* **[Companion Resource Notebook](https://github.com/bleuknight/NMSUworkshop2018/blob/master/learnPandasReference.ipynb)** \n",
    "* [Indexing and Selecting Data](https://pandas.pydata.org/pandas-docs/stable/indexing.html) section of pandas documentation\n",
    "* [Pandas Cheat Sheet](https://assets.datacamp.com/blog_assets/PandasPythonForDataScience.pdf)\n",
    "\n",
    "\n"
   ]
  },
  {
   "cell_type": "markdown",
   "metadata": {
    "_cell_guid": "ec3878ea-06ce-444d-ad5a-ce6b8a32d586",
    "_uuid": "186dca163ee5d64edb5e9c533d63b5ca9a278074"
   },
   "source": [
    "# Set Up\n",
    "\n",
    "Run the following 2 cells to load (1) the pandas library and (2) the dataset we will be working with today"
   ]
  },
  {
   "cell_type": "code",
   "execution_count": null,
   "metadata": {
    "_cell_guid": "497764a1-5328-44b6-8d23-3d7935fa3000",
    "_uuid": "5bf2c033be7c19b418a11b3cca979720546a1e34"
   },
   "outputs": [],
   "source": [
    "#this imports the pandas library\n",
    "\n",
    "import pandas as pd\n"
   ]
  },
  {
   "cell_type": "code",
   "execution_count": null,
   "metadata": {},
   "outputs": [],
   "source": [
    "# download the pollutants dataset and save it into the folder where you are currently working \n",
    "# with this jupyter notebook\n",
    "pols = pd.read_csv(\"pollutants.csv\", dtype = object)\n"
   ]
  },
  {
   "cell_type": "markdown",
   "metadata": {
    "_cell_guid": "44883696-4161-46b8-8dfc-f7d6a98482b9",
    "_uuid": "94a8c222c0001e704841a1e9ce24db5f9a59c485"
   },
   "source": [
    "### A Pandas \"object\" can be any data type\n",
    "### dtype = object specifies all of the data types in the spreadsheet as objects\n",
    "\n",
    "Verify that this is true by running the code below.  \n",
    "\n",
    "bonus: what happens if you DONT specify the dtype?"
   ]
  },
  {
   "cell_type": "code",
   "execution_count": null,
   "metadata": {},
   "outputs": [],
   "source": [
    "pols.dtypes"
   ]
  },
  {
   "cell_type": "markdown",
   "metadata": {},
   "source": [
    "## Let's check out the first 100 lines to find out what types of data are present"
   ]
  },
  {
   "cell_type": "code",
   "execution_count": null,
   "metadata": {
    "_cell_guid": "6d0cb1b7-ea5f-4540-8865-0e9282f60e2f",
    "_uuid": "87a9445923b613457f5790e0baff3585a3fe4c93"
   },
   "outputs": [],
   "source": [
    "pols.head(100)"
   ]
  },
  {
   "cell_type": "markdown",
   "metadata": {},
   "source": [
    "## Let's specify numeric columns so that we can manipulate them\n",
    "\n",
    "Find out the column names with this code"
   ]
  },
  {
   "cell_type": "code",
   "execution_count": null,
   "metadata": {},
   "outputs": [],
   "source": [
    "pols.columns"
   ]
  },
  {
   "cell_type": "code",
   "execution_count": null,
   "metadata": {},
   "outputs": [],
   "source": [
    "# now specify the numeric columns by creating a list of their names\n",
    "cols = ['fiscal_year', 'result']"
   ]
  },
  {
   "cell_type": "code",
   "execution_count": null,
   "metadata": {},
   "outputs": [],
   "source": [
    "pols[cols] = pols[cols].apply(pd.to_numeric, errors = 'coerce')"
   ]
  },
  {
   "cell_type": "code",
   "execution_count": null,
   "metadata": {},
   "outputs": [],
   "source": [
    "pols.dtypes"
   ]
  },
  {
   "cell_type": "markdown",
   "metadata": {
    "_cell_guid": "038328fc-3cb6-484d-b1fd-02fe569f44f3",
    "_uuid": "18bc3f3f42e3182bf8a94334fc51891700df20b7"
   },
   "source": [
    "# Exercises"
   ]
  },
  {
   "cell_type": "markdown",
   "metadata": {
    "_cell_guid": "ad12fe94-371f-4f97-bfcd-816c010e22ae",
    "_uuid": "5b808702856343d30227350738e9afaf79569a36",
    "collapsed": true
   },
   "source": [
    "**Exercise 1**: Select the `general_location` column from `pols`."
   ]
  },
  {
   "cell_type": "code",
   "execution_count": null,
   "metadata": {
    "_cell_guid": "b28e2a54-3aad-4278-ae3f-90c0ba009964",
    "_uuid": "7ac619bd1d32f5e1bfdce6c67e6c4793dc51bbfb",
    "scrolled": true
   },
   "outputs": [],
   "source": []
  },
  {
   "cell_type": "raw",
   "metadata": {
    "_cell_guid": "16402da6-fd1b-41aa-b089-545deccc384a",
    "_uuid": "3d66fb5688ac4df6cc0830edd141003c2ee71537"
   },
   "source": [
    "**Your answer should look like this:**\n",
    "0         Chukchi Sea\n",
    "1         Chukchi Sea\n",
    "2         Chukchi Sea\n",
    "3         Chukchi Sea\n",
    "4         Chukchi Sea\n",
    "5         Chukchi Sea\n",
    "6         Chukchi Sea\n",
    "7         Chukchi Sea\n",
    "8         Chukchi Sea\n",
    "9         Chukchi Sea\n",
    "10        Chukchi Sea\n",
    "11        Chukchi Sea\n",
    "12        Chukchi Sea\n",
    "13        Chukchi Sea\n",
    "14        Chukchi Sea\n",
    "15        Chukchi Sea\n",
    "16        Chukchi Sea\n",
    "17        Chukchi Sea\n",
    "18        Chukchi Sea\n",
    "19        Chukchi Sea\n",
    "20        Chukchi Sea\n",
    "21        Chukchi Sea\n",
    "22        Chukchi Sea\n",
    "23        Chukchi Sea\n",
    "24        Chukchi Sea\n",
    "25        Chukchi Sea\n",
    "26        Chukchi Sea\n",
    "27        Chukchi Sea\n",
    "28        Chukchi Sea\n",
    "29        Chukchi Sea\n",
    "             ...     \n",
    "769896         Tinian\n",
    "769897         Tinian\n",
    "769898         Tinian\n",
    "769899         Tinian\n",
    "769900         Tinian\n",
    "769901         Tinian\n",
    "769902         Tinian\n",
    "769903         Tinian\n",
    "769904         Tinian\n",
    "769905         Tinian\n",
    "769906         Tinian\n",
    "769907         Tinian\n",
    "769908         Tinian\n",
    "769909         Tinian\n",
    "769910         Tinian\n",
    "769911         Tinian\n",
    "769912         Tinian\n",
    "769913         Tinian\n",
    "769914         Tinian\n",
    "769915         Tinian\n",
    "769916         Tinian\n",
    "769917         Tinian\n",
    "769918         Tinian\n",
    "769919         Tinian\n",
    "769920         Tinian\n",
    "769921         Tinian\n",
    "769922         Tinian\n",
    "769923         Tinian\n",
    "769924         Tinian\n",
    "769925         Tinian\n",
    "Name: general_location, Length: 769926, dtype: object"
   ]
  },
  {
   "cell_type": "markdown",
   "metadata": {
    "_cell_guid": "6c8d3db7-5a8d-46b1-8a45-80cf211cb7d3",
    "_uuid": "b1953b7288f1e6664adcf7b22948999b17a0cdd7"
   },
   "source": [
    "**Exercise 2**: what is the general location for the 94th entry  of `pols`."
   ]
  },
  {
   "cell_type": "code",
   "execution_count": null,
   "metadata": {
    "_cell_guid": "f44806b3-4c37-4af9-87c4-9bffaf2a665b",
    "_uuid": "9689e0f2dd35dc91d3fada053ff5fd3623a55241"
   },
   "outputs": [],
   "source": []
  },
  {
   "cell_type": "raw",
   "metadata": {},
   "source": [
    "**Your answer should look like this:**\n",
    "     'Chukchi Sea'"
   ]
  },
  {
   "cell_type": "markdown",
   "metadata": {
    "_cell_guid": "a2fd5bd3-dae4-4030-a4e0-8e9575d53fe1",
    "_uuid": "7fa5025f3d20fc0873d09e3074b3e06e3c2bd856"
   },
   "source": [
    "**Exercise 3**: Select the first row of data (the first record) from `pols`. Hint: use `loc` or `iloc`."
   ]
  },
  {
   "cell_type": "code",
   "execution_count": null,
   "metadata": {
    "_cell_guid": "ad874c6e-e666-4d1c-98e0-dc3e06645dc1",
    "_uuid": "a6ce031ab720497962734344ed93eea16293e5bb",
    "scrolled": true
   },
   "outputs": [],
   "source": [
    "\n"
   ]
  },
  {
   "cell_type": "raw",
   "metadata": {},
   "source": [
    "***your answer should look like this***\n",
    "\n",
    "coastal_ecological_area                                        NaN\n",
    "collection_date                             18AUG2015:00:00:00.000\n",
    "fiscal_year                                                   2015\n",
    "general_location                                       Chukchi Sea\n",
    "latitude                                                       NaN\n",
    "longitude                                                      NaN\n",
    "matrix                                                    Sediment\n",
    "method                                                 B&B SOP1006\n",
    "nst_sample_id                                 BA2015AKC-15-005bSED\n",
    "nst_site                                                AKC_15-005\n",
    "parameter                               1,6,7-Trimethylnaphthalene\n",
    "parameter_name                                                 NaN\n",
    "qualifier                                            Below the MDL\n",
    "region_name                                                    NaN\n",
    "result                                                       0.104\n",
    "scientific_name                                           Sediment\n",
    "source_file                AlaskaArcticStudy_Organics_Sediment.csv\n",
    "specific_location                                        Peard Bay\n",
    "state_name                                                     NaN\n",
    "stratum                                                        NaN\n",
    "study_name                                     Alaska Arctic Study\n",
    "units                                                     ng/dry g\n",
    "Name: 0, dtype: object"
   ]
  },
  {
   "cell_type": "markdown",
   "metadata": {
    "_cell_guid": "e88c42bf-81e4-494f-802d-6d36be1da963",
    "_uuid": "7b1db0811de09bf8466a4b63c623e8935f54e8f4"
   },
   "source": [
    "**Exercise 4**: Select the first 100 values from the `parameter` column in `pols` `Series`."
   ]
  },
  {
   "cell_type": "code",
   "execution_count": null,
   "metadata": {
    "_cell_guid": "0d81e71b-d73c-414c-ad54-bc8c4844fd1b",
    "_uuid": "a98097fe18a6ee5196a287f4de1992df4a97a093"
   },
   "outputs": [],
   "source": []
  },
  {
   "cell_type": "raw",
   "metadata": {},
   "source": [
    "***your answer should look like this***\n",
    "0       1,6,7-Trimethylnaphthalene\n",
    "1         1-Methyldibenzothiophene\n",
    "2                 1-Methylfluorene\n",
    "3              1-Methylnaphthalene\n",
    "4             1-Methylphenanthrene\n",
    "5                     18a-Oleanane\n",
    "6          2,6-Dimethylnaphthalene\n",
    "7               2-Methylanthracene\n",
    "8             2-Methylfluoranthene\n",
    "9              2-Methylnaphthalene\n",
    "10            2-Methylphenanthrene\n",
    "11      2/3-Methyldibenzothiophene\n",
    "12        3,6-Dimethylphenanthrene\n",
    "13            3-Methylphenanthrene\n",
    "14        4-Methyldibenzothiophene\n",
    "15          4/9-Methylphenanthrene\n",
    "16                    Acenaphthene\n",
    "17                  Acenaphthylene\n",
    "18                      Anthracene\n",
    "19               Benz[a]anthracene\n",
    "20            Benzo(a)fluoranthene\n",
    "21                Benzo(b)fluorene\n",
    "22                  Benzo[a]pyrene\n",
    "23            Benzo[b]fluoranthene\n",
    "24                  Benzo[e]pyrene\n",
    "25            Benzo[g,h,i]perylene\n",
    "26            Benzo[k]fluoranthene\n",
    "27                  Benzothiophene\n",
    "28                        Biphenyl\n",
    "29               C1-Benzothiophene\n",
    "                  ...             \n",
    "70                      C4-Decalin\n",
    "71            C4-Dibenzothiophenes\n",
    "72        C4-Fluoranthenes_Pyrenes\n",
    "73                 C4-Naphthalenes\n",
    "74       C4-Naphthobenzothiophenes\n",
    "75    C4-Phenanthrenes_Anthracenes\n",
    "76                       Carbazole\n",
    "77                        Chrysene\n",
    "78                         Decalin\n",
    "79          Dibenzo[a,h]anthracene\n",
    "80                    Dibenzofuran\n",
    "81                Dibenzothiophene\n",
    "82                    Fluoranthene\n",
    "83                        Fluorene\n",
    "84         Indeno[1,2,3-c,d]pyrene\n",
    "85                     Naphthalene\n",
    "86           Naphthobenzothiophene\n",
    "87                        Perylene\n",
    "88                    Phenanthrene\n",
    "89                          Pyrene\n",
    "90               Sample dry weight\n",
    "91       Sample percent dry weight\n",
    "92       Sample percent wet weight\n",
    "93               Sample wet weight\n",
    "94      1,6,7-Trimethylnaphthalene\n",
    "95        1-Methyldibenzothiophene\n",
    "96                1-Methylfluorene\n",
    "97             1-Methylnaphthalene\n",
    "98            1-Methylphenanthrene\n",
    "99                    18a-Oleanane\n",
    "Name: parameter, Length: 100, dtype: object\n"
   ]
  },
  {
   "cell_type": "markdown",
   "metadata": {
    "_cell_guid": "bb6cf115-67d0-4238-9811-2a1a4ba0ab15",
    "_uuid": "38686efe5181343e1b88676a6b764a3b64f33b87"
   },
   "source": [
    "**Exercise 5**: Select the records with the `1`, `2`, `3`, `5`, and `8` row index positions. In other words, generate the following `DataFrame`:\n",
    "\n",
    "![DataFrame](pols_pic1.png)"
   ]
  },
  {
   "cell_type": "code",
   "execution_count": null,
   "metadata": {},
   "outputs": [],
   "source": []
  },
  {
   "cell_type": "markdown",
   "metadata": {
    "_cell_guid": "c7a65b77-e302-42eb-bfdf-fe7656e94800",
    "_uuid": "7b1bf189d3acc0b71fb78f1dab4c0799d657988a"
   },
   "source": [
    "**Exercise 6**: Select the `general_location`, `parameter`, `result`, and `units` columns of the records with the `1`, `9`, `19`, and `91` index positions. In other words, generate the following `DataFrame`:\n",
    "\n",
    "![DataFrame](pols_pic2.png)"
   ]
  },
  {
   "cell_type": "code",
   "execution_count": null,
   "metadata": {
    "_cell_guid": "7f5fa62d-cac5-4613-a019-5a1b6c305af3",
    "_uuid": "d5f6dd18e401b34541add94b128ab826f51cdb32"
   },
   "outputs": [],
   "source": [
    "\n"
   ]
  },
  {
   "cell_type": "markdown",
   "metadata": {
    "_cell_guid": "fe19502b-beb1-44f0-b13f-3926e02bbc2c",
    "_uuid": "12b87365924856556f0d4b3550337dce29c6f8a1"
   },
   "source": [
    "**Exercise 7**: Select the `general_location` and `specific_location` columns of records 1 - 1000\n",
    "\n",
    "Hint: you may use `loc` or `iloc`. When working on the answer this question and the several of the ones that follow, keep the in mind the following\n",
    "\n",
    "> `iloc` uses the Python stdlib indexing scheme, where the first element of the range is included and the last one excluded. So `0:10` will select entries `0,...,9`. `loc`, meanwhile, indexes inclusively. So `0:10` will select entries `0,...,10`.\n"
   ]
  },
  {
   "cell_type": "code",
   "execution_count": null,
   "metadata": {
    "_cell_guid": "f8a89edb-6a2f-49d6-a0b5-535494c03348",
    "_uuid": "4b3ea349ff41a1f3f967453c8310abc3c2ca4f57"
   },
   "outputs": [],
   "source": [
    "\n"
   ]
  },
  {
   "cell_type": "markdown",
   "metadata": {
    "_cell_guid": "739de3a4-9c07-461b-9937-0d0dc460ac7f",
    "_uuid": "60b84333af900162f9869a8a257b09f417d9f368"
   },
   "source": [
    "**Exercise 8**: Select tests done in the `Beaufort Sea`. Hint: `pols.general_location` equals what?"
   ]
  },
  {
   "cell_type": "code",
   "execution_count": null,
   "metadata": {
    "_cell_guid": "7a965ec9-2b83-4198-94a8-03a13d2b4211",
    "_uuid": "44b903e957e8ab31a879253efb380f7ed841b971"
   },
   "outputs": [],
   "source": [
    "\n"
   ]
  },
  {
   "cell_type": "markdown",
   "metadata": {
    "_cell_guid": "0fdc460e-f8aa-455c-b1f5-53df0e1fa7bc",
    "_uuid": "791d4984ee7b23a75d71dc4571776dadfe5226b0"
   },
   "source": [
    "**Exercise 9**: Select tests whose `parameter` is not `NaN`."
   ]
  },
  {
   "cell_type": "code",
   "execution_count": null,
   "metadata": {
    "_cell_guid": "851ac090-28ab-4313-acba-0f2fea4435dd",
    "_uuid": "72e4f1db01c3942b04332e1bf6667518d1a59970"
   },
   "outputs": [],
   "source": [
    "\n"
   ]
  },
  {
   "cell_type": "markdown",
   "metadata": {
    "_cell_guid": "4df27dc6-87d5-44ae-9291-5e1569acac6d",
    "_uuid": "83d3cf94f00cb52c29ddc735bfb3f96f6192a27a"
   },
   "source": [
    "**Exercise 10**: Select the `parameter` column."
   ]
  },
  {
   "cell_type": "code",
   "execution_count": null,
   "metadata": {
    "_cell_guid": "f859a040-4cab-443c-9bee-cf6585f01a6f",
    "_uuid": "1dbea9335c0adf062d78a43fbfadf3fc122582a6"
   },
   "outputs": [],
   "source": [
    "\n"
   ]
  },
  {
   "cell_type": "markdown",
   "metadata": {
    "_cell_guid": "86dfa923-c8be-4b03-b84f-e4e888d90816",
    "_uuid": "b60ac9beb9e287c65fe31f756a9006326320465e"
   },
   "source": [
    "**Exercise 11**: <!--What is the distribution of reviews scores for the first 1000 wines in the dataset?--> Select the `parameter` column for the first 1000 tests."
   ]
  },
  {
   "cell_type": "code",
   "execution_count": null,
   "metadata": {
    "_cell_guid": "fbefd44e-f6af-41ba-adcf-62c658fb7bbc",
    "_uuid": "d8d13fb34cda115b00cda38903ac691b2592eba7"
   },
   "outputs": [],
   "source": [
    "\n"
   ]
  },
  {
   "cell_type": "markdown",
   "metadata": {
    "_cell_guid": "f6f8126f-7d7c-447b-ba97-3910ce010d49",
    "_uuid": "16a8659d031254c01c8a25bad016aa7040bc7ca2"
   },
   "source": [
    "**Exercise 12**: <!--What is the distribution of reviews scores for the last 1000 wines in the dataset?--> Select the `parameter` column for the last 1000 tests."
   ]
  },
  {
   "cell_type": "code",
   "execution_count": null,
   "metadata": {
    "_cell_guid": "3296fb79-870a-4c8f-9126-abac0451c543",
    "_uuid": "8ca9d43f2cf3f1602ea3f53f3a1f56609adf11e8"
   },
   "outputs": [],
   "source": [
    "\n"
   ]
  },
  {
   "cell_type": "markdown",
   "metadata": {},
   "source": [
    "## Now, let's start to ask some more meaningful questions about our data"
   ]
  },
  {
   "cell_type": "markdown",
   "metadata": {
    "_cell_guid": "739de3a4-9c07-461b-9937-0d0dc460ac7f",
    "_uuid": "60b84333af900162f9869a8a257b09f417d9f368"
   },
   "source": [
    "**Exercise 13**: What are the different pollutants present in the dataset? List each pollutant only once. Hint: `parameter` corresponds to pollutant?"
   ]
  },
  {
   "cell_type": "code",
   "execution_count": null,
   "metadata": {},
   "outputs": [],
   "source": []
  },
  {
   "cell_type": "markdown",
   "metadata": {
    "_cell_guid": "739de3a4-9c07-461b-9937-0d0dc460ac7f",
    "_uuid": "60b84333af900162f9869a8a257b09f417d9f368"
   },
   "source": [
    "**Exercise 14**: How many pollutants are there?"
   ]
  },
  {
   "cell_type": "code",
   "execution_count": null,
   "metadata": {},
   "outputs": [],
   "source": []
  },
  {
   "cell_type": "markdown",
   "metadata": {
    "_cell_guid": "7b5287f1-9a12-4d08-89c3-054dc070878c",
    "_uuid": "7416dd40ba264baa25f75c9583a4a896609f4eb6"
   },
   "source": [
    "**Exercise 15**: What pollutants are in the Mississippi River? Hint: Select the `parameter` column, but only for tests in the Mississippi River."
   ]
  },
  {
   "cell_type": "code",
   "execution_count": null,
   "metadata": {
    "_cell_guid": "37620840-d261-40b9-ac9e-758ada0049ac",
    "_uuid": "7a9166bc624e4517abc140f91ac609f61b56050c"
   },
   "outputs": [],
   "source": []
  },
  {
   "cell_type": "markdown",
   "metadata": {
    "_cell_guid": "7b5287f1-9a12-4d08-89c3-054dc070878c",
    "_uuid": "7416dd40ba264baa25f75c9583a4a896609f4eb6"
   },
   "source": [
    "**Exercise 16**: How many different pollutants are in the Mississippi River? Hint: how long is the array of unique pollutants?"
   ]
  },
  {
   "cell_type": "code",
   "execution_count": null,
   "metadata": {},
   "outputs": [],
   "source": []
  },
  {
   "cell_type": "markdown",
   "metadata": {
    "_cell_guid": "7b5287f1-9a12-4d08-89c3-054dc070878c",
    "_uuid": "7416dd40ba264baa25f75c9583a4a896609f4eb6"
   },
   "source": [
    "**Exercise 17**: What is the oldest test on record for the Mississippi River? Hint: What is the minimum value of `fiscal_year` for tests in the Mississippi River?"
   ]
  },
  {
   "cell_type": "code",
   "execution_count": null,
   "metadata": {},
   "outputs": [],
   "source": []
  },
  {
   "cell_type": "markdown",
   "metadata": {
    "_cell_guid": "7b5287f1-9a12-4d08-89c3-054dc070878c",
    "_uuid": "7416dd40ba264baa25f75c9583a4a896609f4eb6"
   },
   "source": [
    "**Exercise 18**: What is the most recent test on record for the Mississippi River? Hint: What is the maximum value of `fiscal_year` for tests in the Mississippi River?"
   ]
  },
  {
   "cell_type": "code",
   "execution_count": null,
   "metadata": {},
   "outputs": [],
   "source": []
  },
  {
   "cell_type": "markdown",
   "metadata": {},
   "source": [
    "**Exercise 19**: Lets explore the Mississippi River data in more detail. What are the most concentrated pollutants at each specific location? `Hint: first, create a dataframe corresponding to only Mississippi River data, then sort by the highest result. Then, group by 'parameter' and 'units'"
   ]
  },
  {
   "cell_type": "code",
   "execution_count": null,
   "metadata": {
    "_cell_guid": "c2ec8e09-4cad-4039-900a-5b4b0966fea8",
    "_uuid": "ac28247fdc7139ce33976dcb722271079dcffe07"
   },
   "outputs": [],
   "source": []
  },
  {
   "cell_type": "markdown",
   "metadata": {},
   "source": [
    "**Exercise 20** How do we know that the units are aligned?  Find the different units that are used for the Mississippi River tests:"
   ]
  },
  {
   "cell_type": "code",
   "execution_count": null,
   "metadata": {},
   "outputs": [],
   "source": []
  },
  {
   "cell_type": "markdown",
   "metadata": {},
   "source": [
    "Oh, it looks like there might be some differences.  I'm going to go through one way to match up the units so we can be sure we are looking at the most concentrated pollutants in the dataset. **I did this last night at almost midnight and I feel like it is kind of klunky but this is my solution** First I am going to duplicate the result column in a new column called 'adj': "
   ]
  },
  {
   "cell_type": "code",
   "execution_count": null,
   "metadata": {},
   "outputs": [],
   "source": [
    "MR = MR.assign(adj = MR['result'])\n",
    "MR"
   ]
  },
  {
   "cell_type": "markdown",
   "metadata": {
    "_cell_guid": "97404b7b-c07a-4ed6-a68e-26402dea862e",
    "_uuid": "a83d3da821bf25b1cc19bc4de81e2738e36c4660"
   },
   "source": [
    " have micrograms, nanograms, and picograms per gram so I am going to adjust accordingly now:\n"
   ]
  },
  {
   "cell_type": "code",
   "execution_count": null,
   "metadata": {},
   "outputs": [],
   "source": [
    "MR.loc[MR['units'] == 'micrograms per dry gram', 'adj'] =  1000000\n",
    "MR.loc[MR['units'].str.contains(\"ng\"), 'adj'] =  1000\n",
    "MR.loc[MR['units'].str.contains(\"cent\"), 'adj'] = 1\n",
    "MR.loc[MR['units'] == 'CFU/g', 'adj'] =  1\n",
    "MR.loc[MR['units'] == 'Number', 'adj'] = 1\n",
    "MR.loc[MR['units'] == 'G', 'adj'] = 1\n",
    "MR.loc[MR['units'] == 'pg/g', 'adj'] = 1"
   ]
  },
  {
   "cell_type": "markdown",
   "metadata": {},
   "source": [
    "**Exercise 21**: Did the adjustment catch all of the different types of units? `(Hint: what are the unique values in the 'adj' column?)`"
   ]
  },
  {
   "cell_type": "code",
   "execution_count": null,
   "metadata": {},
   "outputs": [],
   "source": []
  },
  {
   "cell_type": "markdown",
   "metadata": {},
   "source": [
    "Now I will compensate for the unit adjustment like this:"
   ]
  },
  {
   "cell_type": "code",
   "execution_count": null,
   "metadata": {},
   "outputs": [],
   "source": [
    "MR['result'] = MR.result*MR.adj\n",
    "MR"
   ]
  },
  {
   "cell_type": "markdown",
   "metadata": {},
   "source": [
    "**Exercise 22** What pollutants have the highest mean result value? `(Hint: Look at the discussion of groupby in the slides)`"
   ]
  },
  {
   "cell_type": "code",
   "execution_count": null,
   "metadata": {},
   "outputs": [],
   "source": []
  },
  {
   "cell_type": "markdown",
   "metadata": {},
   "source": [
    "**Exercise 23** Let's see which pollutants changed the most in the MIssissippi river over the course of the study `(hint: create a dataframe from a pivot table, then find the difference between the highest and lowest values, then sort by that difference)`"
   ]
  },
  {
   "cell_type": "code",
   "execution_count": null,
   "metadata": {},
   "outputs": [],
   "source": []
  },
  {
   "cell_type": "code",
   "execution_count": null,
   "metadata": {},
   "outputs": [],
   "source": []
  }
 ],
 "metadata": {
  "kernelspec": {
   "display_name": "Python 3",
   "language": "python",
   "name": "python3"
  },
  "language_info": {
   "codemirror_mode": {
    "name": "ipython",
    "version": 3
   },
   "file_extension": ".py",
   "mimetype": "text/x-python",
   "name": "python",
   "nbconvert_exporter": "python",
   "pygments_lexer": "ipython3",
   "version": "3.6.4"
  }
 },
 "nbformat": 4,
 "nbformat_minor": 1
}
